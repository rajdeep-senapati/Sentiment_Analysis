{
  "nbformat": 4,
  "nbformat_minor": 0,
  "metadata": {
    "colab": {
      "provenance": []
    },
    "kernelspec": {
      "name": "python3",
      "display_name": "Python 3"
    },
    "language_info": {
      "name": "python"
    }
  },
  "cells": [
    {
      "cell_type": "code",
      "source": [
        "!pip install spacy textblob\n",
        "!python -m spacy download en_core_web_sm"
      ],
      "metadata": {
        "id": "i9Lhxrm1qxEX"
      },
      "execution_count": null,
      "outputs": []
    },
    {
      "cell_type": "code",
      "execution_count": 17,
      "metadata": {
        "id": "DMv-yIykowxT"
      },
      "outputs": [],
      "source": [
        "import spacy\n",
        "nlp = spacy.load(\"en_core_web_sm\")"
      ]
    },
    {
      "cell_type": "code",
      "source": [
        "# Sample text\n",
        "text = \"There is a performance issue with this laptop\"\n",
        "\n",
        "# Process the text\n",
        "doc = nlp(text)"
      ],
      "metadata": {
        "id": "49Ai_5CUqTOI"
      },
      "execution_count": 14,
      "outputs": []
    },
    {
      "cell_type": "code",
      "source": [
        "from textblob import TextBlob\n",
        "blob = TextBlob(text)"
      ],
      "metadata": {
        "id": "42978egppZyZ"
      },
      "execution_count": 15,
      "outputs": []
    },
    {
      "cell_type": "code",
      "source": [
        "for sentence in doc.sents:\n",
        "    sentiment = TextBlob(str(sentence)).sentiment\n",
        "    print(f\"Sentence: {sentence}\")\n",
        "    print(f\"Sentiment: {'Positive' if sentiment.polarity > 0 else 'Negative'}\")\n",
        "    print(f\"Polarity: {sentiment.polarity}, Subjectivity: {sentiment.subjectivity}\")"
      ],
      "metadata": {
        "colab": {
          "base_uri": "https://localhost:8080/"
        },
        "id": "UyBDpsyGpwZ2",
        "outputId": "44dceb69-9ccf-4a9f-900f-3549c85ecb06"
      },
      "execution_count": 16,
      "outputs": [
        {
          "output_type": "stream",
          "name": "stdout",
          "text": [
            "Sentence: There is a performance issue with this laptop\n",
            "Sentiment: Negative\n",
            "Polarity: 0.0, Subjectivity: 0.0\n"
          ]
        }
      ]
    }
  ]
}